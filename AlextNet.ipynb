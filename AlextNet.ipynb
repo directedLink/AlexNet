{
  "nbformat": 4,
  "nbformat_minor": 0,
  "metadata": {
    "colab": {
      "provenance": [],
      "gpuType": "V28",
      "authorship_tag": "ABX9TyMQYI7bqjIClYM7SPWE7sjY",
      "include_colab_link": true
    },
    "kernelspec": {
      "name": "python3",
      "display_name": "Python 3"
    },
    "language_info": {
      "name": "python"
    },
    "accelerator": "TPU"
  },
  "cells": [
    {
      "cell_type": "markdown",
      "metadata": {
        "id": "view-in-github",
        "colab_type": "text"
      },
      "source": [
        "<a href=\"https://colab.research.google.com/github/thenametochange/AlexNet/blob/main/AlextNet.ipynb\" target=\"_parent\"><img src=\"https://colab.research.google.com/assets/colab-badge.svg\" alt=\"Open In Colab\"/></a>"
      ]
    },
    {
      "cell_type": "markdown",
      "source": [
        "导入package"
      ],
      "metadata": {
        "id": "RxtjZ24F3Z0E"
      }
    },
    {
      "cell_type": "code",
      "execution_count": 1,
      "metadata": {
        "id": "kCnQlOht2peL"
      },
      "outputs": [],
      "source": [
        "import torch\n",
        "import torch.nn as nn\n",
        "import torch.optim as optim\n",
        "import torchvision\n",
        "import torchvision.transforms as transforms\n",
        "import torch.nn.functional as F"
      ]
    },
    {
      "cell_type": "markdown",
      "source": [
        "数据预处理"
      ],
      "metadata": {
        "id": "B-r-G1Rq3f5d"
      }
    },
    {
      "cell_type": "code",
      "source": [
        "transform = transforms.Compose(\n",
        "    [transforms.Resize((227, 227)),\n",
        "     transforms.ToTensor(),\n",
        "     transforms.Normalize((0.5, 0.5, 0.5), (0.5, 0.5, 0.5))]\n",
        ")"
      ],
      "metadata": {
        "id": "p0Q05uGZ3hWt"
      },
      "execution_count": 2,
      "outputs": []
    },
    {
      "cell_type": "markdown",
      "source": [
        "加载数据集"
      ],
      "metadata": {
        "id": "cRfHbDQy4e_a"
      }
    },
    {
      "cell_type": "code",
      "source": [
        "trainset = torchvision.datasets.CIFAR10(root='.data', train = True,\n",
        "                      download=True, transform=transform)\n",
        "trainloader = torch.utils.data.DataLoader(trainset, batch_size=128,\n",
        "                      shuffle=True, num_workers=2)\n",
        "\n",
        "testset = torchvision.datasets.CIFAR10(root='./data', train=False,\n",
        "                      download=True, transform=transform)\n",
        "testloader = torch.utils.data.DataLoader(testset, batch_size=128,\n",
        "                      shuffle=False, num_workers=2)\n",
        "\n",
        "classes = ('plane', 'car', 'bird', 'cat', 'deer', 'dog', 'frog', 'horse', 'ship', 'truck')"
      ],
      "metadata": {
        "colab": {
          "base_uri": "https://localhost:8080/"
        },
        "id": "YpNEP_a94g-K",
        "outputId": "eab2a091-bcce-4037-ef7e-365cfab06c7e"
      },
      "execution_count": 4,
      "outputs": [
        {
          "output_type": "stream",
          "name": "stdout",
          "text": [
            "Files already downloaded and verified\n",
            "Downloading https://www.cs.toronto.edu/~kriz/cifar-10-python.tar.gz to ./data/cifar-10-python.tar.gz\n"
          ]
        },
        {
          "output_type": "stream",
          "name": "stderr",
          "text": [
            "100%|██████████| 170498071/170498071 [00:01<00:00, 99480014.81it/s] \n"
          ]
        },
        {
          "output_type": "stream",
          "name": "stdout",
          "text": [
            "Extracting ./data/cifar-10-python.tar.gz to ./data\n"
          ]
        }
      ]
    },
    {
      "cell_type": "markdown",
      "source": [
        "定义AlexNet模型"
      ],
      "metadata": {
        "id": "UpXWOfP26FNb"
      }
    },
    {
      "cell_type": "code",
      "source": [
        "class AlexNet(nn.Module):\n",
        "  def __init__(self, num_classes=10):\n",
        "    super(AlexNet, self).__init__()\n",
        "    self.features = nn.Sequential(\n",
        "        nn.Conv2d(3, 96, kernel_size=11, stride=4, padding=2),\n",
        "        nn.ReLU(inplace=True),\n",
        "        nn.MaxPool2d(kernel_size=3, stride=2),\n",
        "        nn.Conv2d(96, 256, kernel_size=5, padding=2),\n",
        "        nn.ReLU(inplace=True),\n",
        "        nn.MaxPool2d(kernel_size=3, stride=2),\n",
        "        nn.Conv2d(256, 384, kernel_size=3, padding=1),\n",
        "        nn.ReLU(inplace=True),\n",
        "        nn.Conv2d(384, 384, kernel_size=3, padding=1),\n",
        "        nn.ReLU(inplace=True),\n",
        "        nn.Conv2d(384, 256, kernel_size=3, padding=1),\n",
        "        nn.ReLU(inplace=True),\n",
        "        nn.MaxPool2d(kernel_size=3, stride=2),\n",
        "    )\n",
        "    self.classifier = nn.Sequential(\n",
        "        nn.Dropout(),\n",
        "        nn.Linear(256 * 6 * 6, 4096),\n",
        "        nn.ReLU(inplace=True),\n",
        "        nn.Dropout(),\n",
        "        nn.Linear(4096, 4096),\n",
        "        nn.ReLU(inplace=True),\n",
        "        nn.Linear(4096, num_classes),\n",
        "    )\n",
        "\n",
        "  def forward(self, x):\n",
        "    x = self.features(x)\n",
        "    x = torch.flatten(x, 1)\n",
        "    x = self.classifier(x)\n",
        "    return x"
      ],
      "metadata": {
        "id": "_VkezQqA6IUo"
      },
      "execution_count": 14,
      "outputs": []
    },
    {
      "cell_type": "markdown",
      "source": [
        "初始化"
      ],
      "metadata": {
        "id": "t0un8qRS9aGk"
      }
    },
    {
      "cell_type": "code",
      "source": [
        "device = torch.device(\"cuda\" if torch.cuda.is_available() else \"cpu\")\n",
        "net = AlexNet().to(device)\n",
        "criterion = nn.CrossEntropyLoss()\n",
        "optimizer = optim.SGD(net.parameters(), lr=0.01, momentum=0.9, weight_decay=0.0005)"
      ],
      "metadata": {
        "id": "rCdeCQpv9b-e"
      },
      "execution_count": 15,
      "outputs": []
    },
    {
      "cell_type": "markdown",
      "source": [
        "训练模型"
      ],
      "metadata": {
        "id": "d3UoLnHr_f8q"
      }
    },
    {
      "cell_type": "code",
      "source": [
        "def train(epoch):\n",
        "  net.train()\n",
        "  running_loss = 0.0\n",
        "  for i, data in enumerate(trainloader, 0):\n",
        "    inputs, labels = data\n",
        "    inputs, labels = inputs.to(device), labels.to(device)\n",
        "\n",
        "    optimizer.zero_grad()\n",
        "    outputs = net(inputs)\n",
        "    loss = criterion(outputs, labels)\n",
        "    loss.backward()\n",
        "    optimizer.step()\n",
        "\n",
        "    running_loss += loss.item()\n",
        "    if i % 100 == 99:\n",
        "      print(f'[Epoch {epoch + 1}, Batch {i + 1}] loss: running_loss / 100:.3f')\n",
        "      running_loss = 0.0"
      ],
      "metadata": {
        "id": "5Le77Fl0_iVK"
      },
      "execution_count": 16,
      "outputs": []
    },
    {
      "cell_type": "markdown",
      "source": [
        "测试模型"
      ],
      "metadata": {
        "id": "fCz5T6vKAWdK"
      }
    },
    {
      "cell_type": "code",
      "source": [
        "def test():\n",
        "  net.eval()\n",
        "  correct = 0\n",
        "  total = 0\n",
        "  with torch.no_grad():\n",
        "    for data in testloader:\n",
        "      images, labels = data\n",
        "      images, labels = images.to(device), labels.to(device)\n",
        "      outputs = net(images)\n",
        "      _, predicted = torch.max(outputs.data, 1)\n",
        "      total += labels.size(0)\n",
        "      correct += (predicted == labels).sum().item()\n",
        "\n",
        "  print(f'Accuracy of the network on the 10000 test images: {100 * correct / total:.2f}%')\n",
        ""
      ],
      "metadata": {
        "id": "JDNMCsfCAYpZ"
      },
      "execution_count": 17,
      "outputs": []
    },
    {
      "cell_type": "markdown",
      "source": [
        "运行训练和测试"
      ],
      "metadata": {
        "id": "tkMJR4wFBKGZ"
      }
    },
    {
      "cell_type": "code",
      "source": [
        "for epoch in range(10):\n",
        "  train(epoch)\n",
        "  test()"
      ],
      "metadata": {
        "colab": {
          "base_uri": "https://localhost:8080/"
        },
        "id": "2kd7qBj7BMY8",
        "outputId": "f6e3ad30-35d2-4fdc-82da-ce2c01b63443"
      },
      "execution_count": 18,
      "outputs": [
        {
          "output_type": "stream",
          "name": "stdout",
          "text": [
            "[Epoch 1, Batch 100] loss: running_loss / 100:.3f\n",
            "[Epoch 1, Batch 200] loss: running_loss / 100:.3f\n",
            "[Epoch 1, Batch 300] loss: running_loss / 100:.3f\n",
            "Accuracy of the network on the 10000 test images: 34.99%\n",
            "[Epoch 2, Batch 100] loss: running_loss / 100:.3f\n",
            "[Epoch 2, Batch 200] loss: running_loss / 100:.3f\n",
            "[Epoch 2, Batch 300] loss: running_loss / 100:.3f\n",
            "Accuracy of the network on the 10000 test images: 50.74%\n",
            "[Epoch 3, Batch 100] loss: running_loss / 100:.3f\n",
            "[Epoch 3, Batch 200] loss: running_loss / 100:.3f\n",
            "[Epoch 3, Batch 300] loss: running_loss / 100:.3f\n",
            "Accuracy of the network on the 10000 test images: 62.47%\n",
            "[Epoch 4, Batch 100] loss: running_loss / 100:.3f\n",
            "[Epoch 4, Batch 200] loss: running_loss / 100:.3f\n",
            "[Epoch 4, Batch 300] loss: running_loss / 100:.3f\n",
            "Accuracy of the network on the 10000 test images: 68.26%\n",
            "[Epoch 5, Batch 100] loss: running_loss / 100:.3f\n",
            "[Epoch 5, Batch 200] loss: running_loss / 100:.3f\n",
            "[Epoch 5, Batch 300] loss: running_loss / 100:.3f\n",
            "Accuracy of the network on the 10000 test images: 73.00%\n",
            "[Epoch 6, Batch 100] loss: running_loss / 100:.3f\n",
            "[Epoch 6, Batch 200] loss: running_loss / 100:.3f\n",
            "[Epoch 6, Batch 300] loss: running_loss / 100:.3f\n",
            "Accuracy of the network on the 10000 test images: 75.57%\n",
            "[Epoch 7, Batch 100] loss: running_loss / 100:.3f\n",
            "[Epoch 7, Batch 200] loss: running_loss / 100:.3f\n",
            "[Epoch 7, Batch 300] loss: running_loss / 100:.3f\n",
            "Accuracy of the network on the 10000 test images: 76.84%\n",
            "[Epoch 8, Batch 100] loss: running_loss / 100:.3f\n",
            "[Epoch 8, Batch 200] loss: running_loss / 100:.3f\n",
            "[Epoch 8, Batch 300] loss: running_loss / 100:.3f\n",
            "Accuracy of the network on the 10000 test images: 78.68%\n",
            "[Epoch 9, Batch 100] loss: running_loss / 100:.3f\n",
            "[Epoch 9, Batch 200] loss: running_loss / 100:.3f\n",
            "[Epoch 9, Batch 300] loss: running_loss / 100:.3f\n",
            "Accuracy of the network on the 10000 test images: 79.98%\n",
            "[Epoch 10, Batch 100] loss: running_loss / 100:.3f\n",
            "[Epoch 10, Batch 200] loss: running_loss / 100:.3f\n",
            "[Epoch 10, Batch 300] loss: running_loss / 100:.3f\n",
            "Accuracy of the network on the 10000 test images: 81.94%\n"
          ]
        }
      ]
    }
  ]
}